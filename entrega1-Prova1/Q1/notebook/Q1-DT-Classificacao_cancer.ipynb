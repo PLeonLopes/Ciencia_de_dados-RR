{
 "cells": [
  {
   "cell_type": "markdown",
   "id": "c1c68be1",
   "metadata": {},
   "source": [
    "ALUNO: PEDRO NÍCOLLAS PEREIRA LEON LOPES"
   ]
  },
  {
   "cell_type": "markdown",
   "id": "f46cfce9",
   "metadata": {},
   "source": [
    "### 1 - Desenvolver um Projeto de Machine Learning com geração de dados automáticos com IA Generativa, baseado nos experimentos de sala de aulas com o modelo, utilizando qualquer framework web em python (Flask, Django, FastAPI, Bottle, Streamlit):\n",
    "* Classificação;\n",
    "<br>ou<br>\n",
    "* Agrupamento de Dados (Clusterização)."
   ]
  },
  {
   "cell_type": "code",
   "execution_count": 1,
   "id": "ed137f7c",
   "metadata": {},
   "outputs": [
    {
     "data": {
      "text/plain": [
       "'\\nDATASET UTILIZADO -> dados_cancer.csv (../data/dados_cancer.csv)\\n\\nPrompt para geração do dataset disponível em: ../prompt-GPT.png\\n\\nProjeto realizado utilizando python 3.8.10\\n'"
      ]
     },
     "execution_count": 1,
     "metadata": {},
     "output_type": "execute_result"
    }
   ],
   "source": [
    "'''\n",
    "DATASET UTILIZADO -> dados_cancer.csv (../data/dados_cancer.csv)\n",
    "\n",
    "Prompt para geração do dataset disponível em: ../prompt-GPT.png\n",
    "\n",
    "Projeto realizado utilizando python 3.8.10\n",
    "'''"
   ]
  },
  {
   "cell_type": "code",
   "execution_count": 2,
   "id": "465b9f22",
   "metadata": {},
   "outputs": [],
   "source": [
    "# Conjunto de Importações\n",
    "import pandas as pd\n",
    "import numpy as np"
   ]
  },
  {
   "cell_type": "code",
   "execution_count": 3,
   "id": "3228f52f",
   "metadata": {},
   "outputs": [
    {
     "data": {
      "text/html": [
       "<div>\n",
       "<style scoped>\n",
       "    .dataframe tbody tr th:only-of-type {\n",
       "        vertical-align: middle;\n",
       "    }\n",
       "\n",
       "    .dataframe tbody tr th {\n",
       "        vertical-align: top;\n",
       "    }\n",
       "\n",
       "    .dataframe thead th {\n",
       "        text-align: right;\n",
       "    }\n",
       "</style>\n",
       "<table border=\"1\" class=\"dataframe\">\n",
       "  <thead>\n",
       "    <tr style=\"text-align: right;\">\n",
       "      <th></th>\n",
       "      <th>media_raio</th>\n",
       "      <th>media_textura</th>\n",
       "      <th>media_perimetro</th>\n",
       "      <th>media_area</th>\n",
       "      <th>mean_smoothness</th>\n",
       "      <th>diagnostico</th>\n",
       "    </tr>\n",
       "  </thead>\n",
       "  <tbody>\n",
       "    <tr>\n",
       "      <th>0</th>\n",
       "      <td>12.66</td>\n",
       "      <td>14.76</td>\n",
       "      <td>87.01</td>\n",
       "      <td>413.25</td>\n",
       "      <td>0.07</td>\n",
       "      <td>0</td>\n",
       "    </tr>\n",
       "    <tr>\n",
       "      <th>1</th>\n",
       "      <td>18.25</td>\n",
       "      <td>14.86</td>\n",
       "      <td>136.96</td>\n",
       "      <td>705.45</td>\n",
       "      <td>0.09</td>\n",
       "      <td>1</td>\n",
       "    </tr>\n",
       "    <tr>\n",
       "      <th>2</th>\n",
       "      <td>13.75</td>\n",
       "      <td>20.48</td>\n",
       "      <td>73.68</td>\n",
       "      <td>454.91</td>\n",
       "      <td>0.10</td>\n",
       "      <td>0</td>\n",
       "    </tr>\n",
       "    <tr>\n",
       "      <th>3</th>\n",
       "      <td>8.93</td>\n",
       "      <td>21.39</td>\n",
       "      <td>79.32</td>\n",
       "      <td>567.75</td>\n",
       "      <td>0.09</td>\n",
       "      <td>0</td>\n",
       "    </tr>\n",
       "    <tr>\n",
       "      <th>4</th>\n",
       "      <td>19.33</td>\n",
       "      <td>17.35</td>\n",
       "      <td>110.30</td>\n",
       "      <td>1517.62</td>\n",
       "      <td>0.12</td>\n",
       "      <td>1</td>\n",
       "    </tr>\n",
       "  </tbody>\n",
       "</table>\n",
       "</div>"
      ],
      "text/plain": [
       "   media_raio  media_textura  media_perimetro  media_area  mean_smoothness  \\\n",
       "0       12.66          14.76            87.01      413.25             0.07   \n",
       "1       18.25          14.86           136.96      705.45             0.09   \n",
       "2       13.75          20.48            73.68      454.91             0.10   \n",
       "3        8.93          21.39            79.32      567.75             0.09   \n",
       "4       19.33          17.35           110.30     1517.62             0.12   \n",
       "\n",
       "   diagnostico  \n",
       "0            0  \n",
       "1            1  \n",
       "2            0  \n",
       "3            0  \n",
       "4            1  "
      ]
     },
     "execution_count": 3,
     "metadata": {},
     "output_type": "execute_result"
    }
   ],
   "source": [
    "dados = pd.read_csv(\"../data/dados_cancer.csv\")         # leitura do .csv\n",
    "dados.head()                                            # visualização do cabeçalho do .csv"
   ]
  },
  {
   "cell_type": "code",
   "execution_count": 4,
   "id": "6db65920",
   "metadata": {},
   "outputs": [
    {
     "data": {
      "text/plain": [
       "media_raio         float64\n",
       "media_textura      float64\n",
       "media_perimetro    float64\n",
       "media_area         float64\n",
       "mean_smoothness    float64\n",
       "diagnostico          int64\n",
       "dtype: object"
      ]
     },
     "execution_count": 4,
     "metadata": {},
     "output_type": "execute_result"
    }
   ],
   "source": [
    "dados.isna().sum()              # checagem de NAN'S no dataset -> 0\n",
    "dados.dtypes                    # Visualização dos tipos dos dados"
   ]
  },
  {
   "cell_type": "markdown",
   "id": "c2012ea5",
   "metadata": {},
   "source": [
    "*NORMALIZANDO OS DADOS*"
   ]
  },
  {
   "cell_type": "code",
   "execution_count": 5,
   "id": "3d892f42",
   "metadata": {},
   "outputs": [],
   "source": [
    "from sklearn.preprocessing import MinMaxScaler              # import do sklearn para usar MinMaxScaler\n",
    "normalizador = MinMaxScaler(feature_range=(0,1))            # instancia do MinMaxScaler"
   ]
  },
  {
   "cell_type": "code",
   "execution_count": 6,
   "id": "cf1d8930",
   "metadata": {},
   "outputs": [
    {
     "data": {
      "text/html": [
       "<div>\n",
       "<style scoped>\n",
       "    .dataframe tbody tr th:only-of-type {\n",
       "        vertical-align: middle;\n",
       "    }\n",
       "\n",
       "    .dataframe tbody tr th {\n",
       "        vertical-align: top;\n",
       "    }\n",
       "\n",
       "    .dataframe thead th {\n",
       "        text-align: right;\n",
       "    }\n",
       "</style>\n",
       "<table border=\"1\" class=\"dataframe\">\n",
       "  <thead>\n",
       "    <tr style=\"text-align: right;\">\n",
       "      <th></th>\n",
       "      <th>media_raio</th>\n",
       "      <th>media_textura</th>\n",
       "      <th>media_perimetro</th>\n",
       "      <th>media_area</th>\n",
       "      <th>mean_smoothness</th>\n",
       "      <th>diagnostico</th>\n",
       "    </tr>\n",
       "  </thead>\n",
       "  <tbody>\n",
       "    <tr>\n",
       "      <th>0</th>\n",
       "      <td>0.325191</td>\n",
       "      <td>0.211588</td>\n",
       "      <td>0.285291</td>\n",
       "      <td>0.135251</td>\n",
       "      <td>0.142857</td>\n",
       "      <td>0</td>\n",
       "    </tr>\n",
       "    <tr>\n",
       "      <th>1</th>\n",
       "      <td>0.609669</td>\n",
       "      <td>0.215880</td>\n",
       "      <td>0.696199</td>\n",
       "      <td>0.289609</td>\n",
       "      <td>0.428571</td>\n",
       "      <td>1</td>\n",
       "    </tr>\n",
       "    <tr>\n",
       "      <th>2</th>\n",
       "      <td>0.380662</td>\n",
       "      <td>0.457082</td>\n",
       "      <td>0.175633</td>\n",
       "      <td>0.157258</td>\n",
       "      <td>0.571429</td>\n",
       "      <td>0</td>\n",
       "    </tr>\n",
       "    <tr>\n",
       "      <th>3</th>\n",
       "      <td>0.135369</td>\n",
       "      <td>0.496137</td>\n",
       "      <td>0.222030</td>\n",
       "      <td>0.216867</td>\n",
       "      <td>0.428571</td>\n",
       "      <td>0</td>\n",
       "    </tr>\n",
       "    <tr>\n",
       "      <th>4</th>\n",
       "      <td>0.664631</td>\n",
       "      <td>0.322747</td>\n",
       "      <td>0.476884</td>\n",
       "      <td>0.718648</td>\n",
       "      <td>0.857143</td>\n",
       "      <td>1</td>\n",
       "    </tr>\n",
       "  </tbody>\n",
       "</table>\n",
       "</div>"
      ],
      "text/plain": [
       "   media_raio  media_textura  media_perimetro  media_area  mean_smoothness  \\\n",
       "0    0.325191       0.211588         0.285291    0.135251         0.142857   \n",
       "1    0.609669       0.215880         0.696199    0.289609         0.428571   \n",
       "2    0.380662       0.457082         0.175633    0.157258         0.571429   \n",
       "3    0.135369       0.496137         0.222030    0.216867         0.428571   \n",
       "4    0.664631       0.322747         0.476884    0.718648         0.857143   \n",
       "\n",
       "   diagnostico  \n",
       "0            0  \n",
       "1            1  \n",
       "2            0  \n",
       "3            0  \n",
       "4            1  "
      ]
     },
     "execution_count": 6,
     "metadata": {},
     "output_type": "execute_result"
    }
   ],
   "source": [
    "colunas_para_normalizar = ['media_raio','media_textura', 'media_perimetro', 'media_area', 'mean_smoothness']\n",
    "\n",
    "# Normalização dos valores para entre -1 e 1\n",
    "for col in colunas_para_normalizar:\n",
    "    dados[col] = normalizador.fit_transform(dados[col].values.reshape(-1, 1))\n",
    "\n",
    "dados.head()            # cabeçalho do .csv (com dados normalizados)"
   ]
  },
  {
   "cell_type": "markdown",
   "id": "eabac444",
   "metadata": {},
   "source": [
    "*Separando a base de dados em amostras de treino e teste*"
   ]
  },
  {
   "cell_type": "code",
   "execution_count": 7,
   "id": "80d51037",
   "metadata": {},
   "outputs": [],
   "source": [
    "from sklearn.model_selection import train_test_split            # import do \"train_test_split\" do sklearn para realizar o treinamento\n",
    "\n",
    "# Atribuindo valores para X e Y (alvo)\n",
    "X = dados.drop(['diagnostico'], axis=1).values          # Seleção das features de seleção (exclusão de \"diagnostico\", o alvo e \"genero\", que não possui correlação com o resto dos dados)\n",
    "Y = dados['diagnostico'].values                         # Variável alvo"
   ]
  },
  {
   "cell_type": "code",
   "execution_count": 8,
   "id": "32cf7460",
   "metadata": {},
   "outputs": [],
   "source": [
    "X_treino,X_teste,Y_treino,Y_teste=train_test_split(X,Y,test_size=0.30,random_state=0)           # 30% teste e 70% treino"
   ]
  },
  {
   "cell_type": "markdown",
   "id": "22981322",
   "metadata": {},
   "source": [
    "*Aplicando modelo Decision Tree Classifier*"
   ]
  },
  {
   "cell_type": "code",
   "execution_count": 9,
   "id": "a6e49896",
   "metadata": {},
   "outputs": [],
   "source": [
    "from sklearn.tree import DecisionTreeClassifier         # import para utilizar DecisionTreeClassifier()\n",
    "modelo_DT_cancer = DecisionTreeClassifier()             # utilização do DecisionTreeClassifier"
   ]
  },
  {
   "cell_type": "code",
   "execution_count": 10,
   "id": "daf0623a",
   "metadata": {},
   "outputs": [
    {
     "data": {
      "text/html": [
       "<style>#sk-container-id-1 {color: black;}#sk-container-id-1 pre{padding: 0;}#sk-container-id-1 div.sk-toggleable {background-color: white;}#sk-container-id-1 label.sk-toggleable__label {cursor: pointer;display: block;width: 100%;margin-bottom: 0;padding: 0.3em;box-sizing: border-box;text-align: center;}#sk-container-id-1 label.sk-toggleable__label-arrow:before {content: \"▸\";float: left;margin-right: 0.25em;color: #696969;}#sk-container-id-1 label.sk-toggleable__label-arrow:hover:before {color: black;}#sk-container-id-1 div.sk-estimator:hover label.sk-toggleable__label-arrow:before {color: black;}#sk-container-id-1 div.sk-toggleable__content {max-height: 0;max-width: 0;overflow: hidden;text-align: left;background-color: #f0f8ff;}#sk-container-id-1 div.sk-toggleable__content pre {margin: 0.2em;color: black;border-radius: 0.25em;background-color: #f0f8ff;}#sk-container-id-1 input.sk-toggleable__control:checked~div.sk-toggleable__content {max-height: 200px;max-width: 100%;overflow: auto;}#sk-container-id-1 input.sk-toggleable__control:checked~label.sk-toggleable__label-arrow:before {content: \"▾\";}#sk-container-id-1 div.sk-estimator input.sk-toggleable__control:checked~label.sk-toggleable__label {background-color: #d4ebff;}#sk-container-id-1 div.sk-label input.sk-toggleable__control:checked~label.sk-toggleable__label {background-color: #d4ebff;}#sk-container-id-1 input.sk-hidden--visually {border: 0;clip: rect(1px 1px 1px 1px);clip: rect(1px, 1px, 1px, 1px);height: 1px;margin: -1px;overflow: hidden;padding: 0;position: absolute;width: 1px;}#sk-container-id-1 div.sk-estimator {font-family: monospace;background-color: #f0f8ff;border: 1px dotted black;border-radius: 0.25em;box-sizing: border-box;margin-bottom: 0.5em;}#sk-container-id-1 div.sk-estimator:hover {background-color: #d4ebff;}#sk-container-id-1 div.sk-parallel-item::after {content: \"\";width: 100%;border-bottom: 1px solid gray;flex-grow: 1;}#sk-container-id-1 div.sk-label:hover label.sk-toggleable__label {background-color: #d4ebff;}#sk-container-id-1 div.sk-serial::before {content: \"\";position: absolute;border-left: 1px solid gray;box-sizing: border-box;top: 0;bottom: 0;left: 50%;z-index: 0;}#sk-container-id-1 div.sk-serial {display: flex;flex-direction: column;align-items: center;background-color: white;padding-right: 0.2em;padding-left: 0.2em;position: relative;}#sk-container-id-1 div.sk-item {position: relative;z-index: 1;}#sk-container-id-1 div.sk-parallel {display: flex;align-items: stretch;justify-content: center;background-color: white;position: relative;}#sk-container-id-1 div.sk-item::before, #sk-container-id-1 div.sk-parallel-item::before {content: \"\";position: absolute;border-left: 1px solid gray;box-sizing: border-box;top: 0;bottom: 0;left: 50%;z-index: -1;}#sk-container-id-1 div.sk-parallel-item {display: flex;flex-direction: column;z-index: 1;position: relative;background-color: white;}#sk-container-id-1 div.sk-parallel-item:first-child::after {align-self: flex-end;width: 50%;}#sk-container-id-1 div.sk-parallel-item:last-child::after {align-self: flex-start;width: 50%;}#sk-container-id-1 div.sk-parallel-item:only-child::after {width: 0;}#sk-container-id-1 div.sk-dashed-wrapped {border: 1px dashed gray;margin: 0 0.4em 0.5em 0.4em;box-sizing: border-box;padding-bottom: 0.4em;background-color: white;}#sk-container-id-1 div.sk-label label {font-family: monospace;font-weight: bold;display: inline-block;line-height: 1.2em;}#sk-container-id-1 div.sk-label-container {text-align: center;}#sk-container-id-1 div.sk-container {/* jupyter's `normalize.less` sets `[hidden] { display: none; }` but bootstrap.min.css set `[hidden] { display: none !important; }` so we also need the `!important` here to be able to override the default hidden behavior on the sphinx rendered scikit-learn.org. See: https://github.com/scikit-learn/scikit-learn/issues/21755 */display: inline-block !important;position: relative;}#sk-container-id-1 div.sk-text-repr-fallback {display: none;}</style><div id=\"sk-container-id-1\" class=\"sk-top-container\"><div class=\"sk-text-repr-fallback\"><pre>DecisionTreeClassifier()</pre><b>In a Jupyter environment, please rerun this cell to show the HTML representation or trust the notebook. <br />On GitHub, the HTML representation is unable to render, please try loading this page with nbviewer.org.</b></div><div class=\"sk-container\" hidden><div class=\"sk-item\"><div class=\"sk-estimator sk-toggleable\"><input class=\"sk-toggleable__control sk-hidden--visually\" id=\"sk-estimator-id-1\" type=\"checkbox\" checked><label for=\"sk-estimator-id-1\" class=\"sk-toggleable__label sk-toggleable__label-arrow\">DecisionTreeClassifier</label><div class=\"sk-toggleable__content\"><pre>DecisionTreeClassifier()</pre></div></div></div></div></div>"
      ],
      "text/plain": [
       "DecisionTreeClassifier()"
      ]
     },
     "execution_count": 10,
     "metadata": {},
     "output_type": "execute_result"
    }
   ],
   "source": [
    "modelo_DT_cancer.fit(X_treino,Y_treino)          # treinamento do modelo com dados de treino"
   ]
  },
  {
   "cell_type": "code",
   "execution_count": 11,
   "id": "6de98f96",
   "metadata": {},
   "outputs": [],
   "source": [
    "Y_previsto = modelo_DT_cancer.predict(X_teste)           # realização de previsões com a amostra de teste"
   ]
  },
  {
   "cell_type": "markdown",
   "id": "be7cc2b0",
   "metadata": {},
   "source": [
    "*RESULTADOS (Matriz de Confusão e Acurária)*"
   ]
  },
  {
   "cell_type": "code",
   "execution_count": 12,
   "id": "fbe206d4",
   "metadata": {},
   "outputs": [],
   "source": [
    "from sklearn.metrics import confusion_matrix, accuracy_score            # métricas de avaliação\n",
    "import seaborn as sns                                                   # plotagem da matrix de confusão"
   ]
  },
  {
   "cell_type": "code",
   "execution_count": 13,
   "id": "244ec893",
   "metadata": {},
   "outputs": [
    {
     "data": {
      "text/plain": [
       "array([[156,   3],\n",
       "       [  8, 133]], dtype=int64)"
      ]
     },
     "execution_count": 13,
     "metadata": {},
     "output_type": "execute_result"
    }
   ],
   "source": [
    "# Matriz de Confusão\n",
    "confusion_matrix(Y_teste, Y_previsto)           # console"
   ]
  },
  {
   "cell_type": "code",
   "execution_count": 14,
   "id": "935257ad",
   "metadata": {},
   "outputs": [
    {
     "data": {
      "text/plain": [
       "<Axes: >"
      ]
     },
     "execution_count": 14,
     "metadata": {},
     "output_type": "execute_result"
    },
    {
     "data": {
      "image/png": "[encoded data removed]",
      "text/plain": [
       "<Figure size 640x480 with 2 Axes>"
      ]
     },
     "metadata": {},
     "output_type": "display_data"
    }
   ],
   "source": [
    "# Plottagem atriz de Confusão\n",
    "cm = confusion_matrix(Y_teste,Y_previsto)\n",
    "sns.heatmap(cm,annot=True, fmt=\"d\")"
   ]
  },
  {
   "cell_type": "code",
   "execution_count": 15,
   "id": "6ff4204d",
   "metadata": {},
   "outputs": [
    {
     "name": "stdout",
     "output_type": "stream",
     "text": [
      "ACCURACY: 0.96\n"
     ]
    }
   ],
   "source": [
    "# ACCURACY:                                             -> 96%\n",
    "accuracy = accuracy_score(Y_teste, Y_previsto)\n",
    "print(f\"ACCURACY: {accuracy:.2f}\")"
   ]
  },
  {
   "cell_type": "markdown",
   "id": "acc3fa63",
   "metadata": {},
   "source": [
    "*Persistência do Modelo (.pkl)*"
   ]
  },
  {
   "cell_type": "code",
   "execution_count": 16,
   "id": "c7d5d440",
   "metadata": {},
   "outputs": [
    {
     "data": {
      "text/plain": [
       "['../modelo/modelo_RL_bank.pkl']"
      ]
     },
     "execution_count": 16,
     "metadata": {},
     "output_type": "execute_result"
    }
   ],
   "source": [
    "import joblib                                                           # importação do joblib para salvar o modelo em .pkl\n",
    "joblib.dump(modelo_DT_cancer, '../modelo/modelo_RL_bank.pkl')           # (.pkl)"
   ]
  }
 ],
 "metadata": {
  "kernelspec": {
   "display_name": "venv",
   "language": "python",
   "name": "python3"
  },
  "language_info": {
   "codemirror_mode": {
    "name": "ipython",
    "version": 3
   },
   "file_extension": ".py",
   "mimetype": "text/x-python",
   "name": "python",
   "nbconvert_exporter": "python",
   "pygments_lexer": "ipython3",
   "version": "3.8.10"
  }
 },
 "nbformat": 4,
 "nbformat_minor": 5
}
